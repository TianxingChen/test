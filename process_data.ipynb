{
 "cells": [
  {
   "cell_type": "code",
   "execution_count": null,
   "metadata": {},
   "outputs": [],
   "source": [
    "import os"
   ]
  },
  {
   "cell_type": "code",
   "execution_count": null,
   "metadata": {},
   "outputs": [],
   "source": [
    "load_dir = '../719_to_ctx'\n",
    "folder_num, num = 0, 0\n",
    "while os.path.isdir(load_dir+f'/episode_{folder_num}') and folder_num < num:\n",
    "    file_num = 0\n",
    "\n",
    "    point_cloud_sub_arrays = []\n",
    "    # state_sub_arrays = []\n",
    "    # action_sub_arrays = [] # vel\n",
    "    episode_ends_sub_arrays = []\n",
    "    rgb_sub_arrays = []\n",
    "    tcp_sub_arrays = []\n",
    "    joint_sub_arrays = []\n",
    "    # info_sub_arrays = [] # language instruction\n",
    "    \n",
    "    while os.path.exists(load_dir+f'/episode_{folder_num}'+f'/{file_num}.pkl'):\n",
    "        "
   ]
  }
 ],
 "metadata": {
  "language_info": {
   "name": "python"
  }
 },
 "nbformat": 4,
 "nbformat_minor": 2
}
